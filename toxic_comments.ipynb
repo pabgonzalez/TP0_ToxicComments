{
 "cells": [
  {
   "cell_type": "code",
   "execution_count": 1,
   "metadata": {},
   "outputs": [],
   "source": [
    "import pandas as pd\n",
    "from sklearn.model_selection import train_test_split\n",
    "import numpy as np\n",
    "\n",
    "train = pd.read_csv(\"data/train.csv\")\n",
    "test = pd.read_csv(\"data/test.csv\")\n",
    "submission = pd.read_csv(\"data/sample_submission.csv\")\n"
   ]
  },
  {
   "cell_type": "markdown",
   "metadata": {},
   "source": [
    "#### Hold-out validation vs. K-folding validation\n",
    "\n",
    "*Hold-out validation* implica separar el dataset (ya sin los datos de test) en dos partes: una parte para entrenar y otra parte para validar. La idea es justamente entrenar el modelo con el dataset de *train* y luego poder evaluarlo con el dataset de validación.\n",
    "\n",
    "*K-folding validation* o validación cruzada es separar al dataset en k partes iguales seleccionadas de forma aleatoria. Una de esas partes será el dataset de validación y el resto conformará el dataset de *train*. Pero, a diferencia del otro método, en este caso se repetirá el proceso de entrenamiento y validación k veces, de forma que cada una de las partes sea el dataset de validación una vez.\n",
    "\n",
    "Claramente la diferencia principal es que mientras en hold-out se usa solamente una partición train-validate (la perfomance medida dependerá en cierta medida de cómo se haga esta partición), en k-folding se usan k particiones. En este sentido, k-folding permite ver cómo se comporta el modelo sin haber entrenado con cada uno de los datos del dataset. \n",
    "\n",
    "Por otro lado, hold-out consume menor poder de cómputo y en consecuencia requiere menos tiempo. Hold-out funcionará bien cuando el dataset es grande, ya que no se observarán diferencias al incluir en train los datos de validación.\n",
    "\n",
    "[Hold-out vs. Cross-validation in Machine Learning](https://medium.com/@eijaz/holdout-vs-cross-validation-in-machine-learning-7637112d3f8f#:~:text=Cross%2Dvalidation%20is%20usually%20the,just%20one%20train%2Dtest%20split.)"
   ]
  },
  {
   "cell_type": "code",
   "execution_count": 2,
   "metadata": {},
   "outputs": [],
   "source": [
    "list_classes = [\n",
    "    \"toxic\",\n",
    "    \"severe_toxic\",\n",
    "    \"obscene\",\n",
    "    \"threat\",\n",
    "    \"insult\",\n",
    "    \"identity_hate\"\n",
    "    ]\n",
    "y = train[list_classes].values\n",
    "X_train, X_valid, y_train, y_valid =\\\n",
    "    train_test_split(train, y, test_size=0.1, random_state=10, shuffle=True)\n",
    "\n",
    "train_text = X_train[\"comment_text\"].str.lower()\n",
    "valid_text = X_valid[\"comment_text\"].str.lower()\n",
    "test_text = test[\"comment_text\"].str.lower()"
   ]
  },
  {
   "cell_type": "markdown",
   "metadata": {},
   "source": [
    "#### Stemming & Lemmatization\n",
    "\n",
    "- https://www.geeksforgeeks.org/nlp-how-tokenizing-text-sentence-words-works/\n",
    "- https://www.geeksforgeeks.org/introduction-to-stemming/?ref=gcse\n",
    "- https://www.geeksforgeeks.org/python-stemming-words-with-nltk/?ref=gcse\n",
    "- https://www.researchgate.net/publication/284038938_A_Comparative_Study_of_Stemming_Algorithms\n",
    "- https://towardsdatascience.com/stemming-lemmatization-what-ba782b7c0bd8\n"
   ]
  },
  {
   "cell_type": "code",
   "execution_count": 3,
   "metadata": {},
   "outputs": [],
   "source": [
    "from nltk.tokenize import RegexpTokenizer\n",
    "from nltk.corpus import stopwords\n",
    "from nltk.stem.snowball import SnowballStemmer\n",
    "#from nltk.stem.wordnet import WordNetLemmatizer\n",
    "\n",
    "#wnl = WordNetLemmatizer()\n",
    "snowball = SnowballStemmer(language=\"english\")\n",
    "\n",
    "def my_tokenizer(text: str) -> list:\n",
    "    '''\n",
    "    my_tokenizer separa una cadena de texto en sus palabras. En exte contexto,\n",
    "    una palabra son dos o más letras (del alfabeto inglés) consecutivas.\n",
    "    Devuelve una lista con las raíces (stems) de las palabras, omitiendo\n",
    "    las palabras de stop_words.\n",
    "\n",
    "    :param text: cadena de texto a tokenizar\n",
    "    :type text: str\n",
    "    :return: lista de stems\n",
    "    :rtype: list\n",
    "    '''\n",
    "    regexp_tokenizer = RegexpTokenizer(pattern=r\"[a-zA-Z]{2,}\")\n",
    "    terms = regexp_tokenizer.tokenize(text)\n",
    "    stop_words = stopwords.words(\"english\")\n",
    "    stems = []\n",
    "    for term in terms:\n",
    "        if term in stop_words:\n",
    "            continue\n",
    "        stem = snowball.stem(term)\n",
    "        if len(stem)>2 and stem not in stop_words:\n",
    "            stems.append(stem)\n",
    "    return stems"
   ]
  },
  {
   "cell_type": "markdown",
   "metadata": {},
   "source": [
    "#### Bag of Words\n",
    "\n",
    "Para poder convertir los comentarios en una entrada numérica (una matriz) para la red neuronal, es necesario:\n",
    "* **Tokenizar** cada documento (separar en palabras). En este caso se toma como una palabra dos o más letras seguidas.\n",
    "\n",
    "```python\n",
    "regexp_tokenizer = RegexpTokenizer(pattern=r\"[a-zA-Z]{2,}\")\n",
    "terms = regexp_tokenizer.tokenize(text)\n",
    "```\n",
    "\n",
    "* **Contar** las ocurrencias de cada token en el documento.\n",
    "* **Normalizar** el texto, es decir, asignar menor importancia a los tokens muy comunes.\n",
    "\n",
    "De esta manera, cada documento de texto se puede representar a través de un vector donde cada número mide la cantidad de ocurrencias de la palabra en el documento (usando CountVecorizer) o da una medida de la importancia de esa palabra. Luego un conjunto de documentos se podrá representar como una matriz. Esta forma de representación se llama Bag of Words.\n"
   ]
  },
  {
   "cell_type": "markdown",
   "metadata": {},
   "source": [
    "\n",
    "#### Count Vectorizer vs TF-IDF\n",
    "\n",
    "Count Vectorizer sirve para contar la cantidad de ocurrencias de cada palabra en conjunto de documentos de texto. En cambio, si bien TD-IDF (Term Frequency - Inverse Document Frequency) también se basa en la cantidad de concurrencias, provee una medida de la importancia de cada palabra. Si una palabra es muy frecuente, podemos pensar que observarla es un hecho que no aporta mucha información. Por otro lado, si una palabra ocurre con muy poca frecuencia, no es conveniente incluirla en el modelo ya que no será posible hacer buenas predicciones a partir de este tipo de palabras.\n",
    "\n",
    "Para cada token $t$ de cada documento $d$ se calcula:\n",
    "\n",
    "$\\text{tf-idf}(t,d)=\\text{tf}(t,d)\\times \\text{idf}(t)$\n",
    "\n",
    "Donde el *term frequency* será la cantidad de ocurrencuas del token en el documento, y en *inverse document frequency* es una medida de la frecuencia del token en todo el conjunto de documentos.\n",
    "\n",
    "$\\text{idf}(t)=\\log\\frac{1+N}{1+\\text{df}(t)}+1$\n",
    "\n",
    "Donde el *document frequency* es la cantidad de documentos donde aparece el token y $n$ es el número de documentos.\n",
    "\n",
    "TfidfTransform aplica esta transformación a una matriz que resulta de CountVectorizer.vectorize(). TfidfVectorizer reúne ambas operaciones. Ejemplo simple:\n",
    "\n",
    "```python\n",
    "tfidf_vectorizer_example = TfidfVectorizer(\n",
    "    lowercase=True,\n",
    "    strip_accents=\"ascii\",\n",
    "    tokenizer=my_tokenizer,\n",
    ")\n",
    "\n",
    "docs = train_text[100:103]\n",
    "\n",
    "matrix_example = tfidf_vectorizer_example.fit_transform(raw_documents=docs)\n",
    " \n",
    "tfidf_matrix_example = pd.DataFrame(\n",
    "    matrix_example.todense(),\n",
    "    columns=tfidf_vectorizer_example.get_feature_names_out()\n",
    ")\n",
    "```\n",
    "\n",
    "Para concluir, TfidfVectorizer es superior a CountVectorizer ya que incorpora una medida de la información que agrega cada palabra en el conjunto de documentos utilizado. Esta información adicional se reflejará luego en las direcciones más importantes de la matriz al aplicar SVD para reducir la dimensionalidad.\n",
    "\n",
    "Referencias:\n",
    "\n",
    "* [Text feature extraction](https://scikit-learn.org/stable/modules/feature_extraction.html#text-feature-extraction)"
   ]
  },
  {
   "cell_type": "markdown",
   "metadata": {},
   "source": [
    "##### Gráfico de #palabras en función del document frequency (df)\n",
    "\n",
    "Obtenido a partir de la matriz de CountVectorizer habiendo aplicado my_tokenizer\n"
   ]
  },
  {
   "cell_type": "code",
   "execution_count": 43,
   "metadata": {},
   "outputs": [
    {
     "name": "stdout",
     "output_type": "stream",
     "text": [
      "125137 different words in train\n"
     ]
    }
   ],
   "source": [
    "# from sklearn.feature_extraction.text import CountVectorizer\n",
    "\n",
    "# cv = CountVectorizer(\n",
    "#     lowercase=True,\n",
    "#     strip_accents=\"ascii\",\n",
    "#     stop_words=\"english\",\n",
    "#     max_df=0.01,\n",
    "#     min_df=10,\n",
    "#     #max_features=200000,\n",
    "#     tokenizer=my_tokenizer,\n",
    "# )\n",
    "# matrix2 = cv.fit_transform(raw_documents=train_text)\n",
    "# print(matrix2.shape)\n",
    "\n",
    "import numpy as np\n",
    "from scipy import sparse\n",
    "\n",
    "cv_matrix = sparse.load_npz(\"cv_matrix.npz\") # matriz dada por CV con min_df=1 y max_df=1.0\n",
    "matrix_df = cv_matrix != 0 # para cada documento y cada palabra, True si pertenece\n",
    "df = matrix_df.sum(axis=0).tolist()[0] # cuento en cuantos documentos aparece cada palabra\n",
    "print(f\"{len(df)} different words in train\")\n",
    "\n",
    "n_docs = cv_matrix.shape[0]\n",
    "x = []\n",
    "y = []\n",
    "y2 = []\n",
    "for i in range(1, n_docs//10):\n",
    "    n_words = df.count(i) # cantidad de palabras que aparecen en exactamente i documentos\n",
    "    if n_words > 0:\n",
    "        x.append(i / n_docs * 100) # % of documents\n",
    "        y.append(np.log10(n_words)) # logarithmic measure\n",
    "        y2.append(n_words)\n"
   ]
  },
  {
   "cell_type": "markdown",
   "metadata": {},
   "source": [
    "El gráfico obtenido sirve para entender la distribucón de las palabras en los documentos y poder elegir min_df y max_df en TfidfVectorizer."
   ]
  },
  {
   "cell_type": "code",
   "execution_count": 60,
   "metadata": {},
   "outputs": [
    {
     "data": {
      "text/plain": [
       "[<matplotlib.lines.Line2D at 0x22085d84640>]"
      ]
     },
     "execution_count": 60,
     "metadata": {},
     "output_type": "execute_result"
    },
    {
     "data": {
      "image/png": "[encoded data removed]",
      "text/plain": [
       "<Figure size 432x288 with 1 Axes>"
      ]
     },
     "metadata": {
      "needs_background": "light"
     },
     "output_type": "display_data"
    }
   ],
   "source": [
    "from matplotlib import pyplot as plt\n",
    "plt.figure()\n",
    "plt.plot(x[50:1000], y2[50:1000], '.')"
   ]
  },
  {
   "cell_type": "markdown",
   "metadata": {},
   "source": [
    "Count & Normalize"
   ]
  },
  {
   "cell_type": "code",
   "execution_count": 4,
   "metadata": {},
   "outputs": [],
   "source": [
    "from sklearn.feature_extraction.text import TfidfVectorizer\n",
    "\n",
    "tfidf_vectorizer = TfidfVectorizer(\n",
    "    lowercase=True,\n",
    "    strip_accents=\"ascii\",\n",
    "    max_df=0.05,\n",
    "    min_df=50,\n",
    "    tokenizer=my_tokenizer,\n",
    ")\n",
    "matrix_train = tfidf_vectorizer.fit_transform(raw_documents=train_text)\n",
    "matrix_valid = tfidf_vectorizer.transform(raw_documents=valid_text)\n",
    "matrix_test = tfidf_vectorizer.transform(raw_documents=test_text)\n",
    "\n",
    "feature_names = tfidf_vectorizer.get_feature_names_out()"
   ]
  },
  {
   "cell_type": "markdown",
   "metadata": {},
   "source": [
    "#### Singular Value Decomposition (SVD)\n",
    "\n",
    "A partir de SVD, se reduce la dimensionalidad de las matrices de tfidf a partir de sus direcciones más importantes."
   ]
  },
  {
   "cell_type": "code",
   "execution_count": 17,
   "metadata": {},
   "outputs": [],
   "source": [
    "from sklearn.decomposition import TruncatedSVD\n",
    "\n",
    "trunSVD = TruncatedSVD(\n",
    "    n_components=500,\n",
    "    #random_state=10,\n",
    "    )\n",
    "dense_matrix_train = trunSVD.fit_transform(matrix_train)\n",
    "dense_matrix_valid = trunSVD.transform(matrix_valid)\n",
    "dense_matrix_test = trunSVD.transform(matrix_test)"
   ]
  },
  {
   "cell_type": "markdown",
   "metadata": {},
   "source": [
    "#### Modelo"
   ]
  },
  {
   "cell_type": "code",
   "execution_count": 6,
   "metadata": {},
   "outputs": [
    {
     "name": "stdout",
     "output_type": "stream",
     "text": [
      "Model: \"sequential\"\n",
      "_________________________________________________________________\n",
      " Layer (type)                Output Shape              Param #   \n",
      "=================================================================\n",
      " Capa_Oculta_1 (Dense)       (None, 200)               60200     \n",
      "                                                                 \n",
      " activation (Activation)     (None, 200)               0         \n",
      "                                                                 \n",
      " Capa_Oculta_2 (Dense)       (None, 200)               40200     \n",
      "                                                                 \n",
      " activation_1 (Activation)   (None, 200)               0         \n",
      "                                                                 \n",
      " Capa_Salida (Dense)         (None, 6)                 1206      \n",
      "                                                                 \n",
      " output (Activation)         (None, 6)                 0         \n",
      "                                                                 \n",
      "=================================================================\n",
      "Total params: 101,606\n",
      "Trainable params: 101,606\n",
      "Non-trainable params: 0\n",
      "_________________________________________________________________\n"
     ]
    }
   ],
   "source": [
    "import tensorflow as tf\n",
    "from keras.models import Sequential\n",
    "from keras.layers.core import Dense, Activation\n",
    "from keras.callbacks import ModelCheckpoint\n",
    "from keras.initializers import RandomNormal\n",
    "from keras import regularizers\n",
    "from keras import initializers\n",
    "\n",
    "default_initializer = initializers.normal(mean=0, stddev=0.001)\n",
    "# default_initializer = 'zeros'\n",
    "\n",
    "input_features = dense_matrix_train.shape[1]\n",
    "output_size = y_train.shape[1]\n",
    "hidden_units = 100\n",
    "lambd = 0 #0.001\n",
    "model_sig_nn = Sequential()\n",
    "model_sig_nn.add(Dense(200,\n",
    "                       input_dim=input_features, \n",
    "                       kernel_regularizer=regularizers.l2(lambd), \n",
    "                       kernel_initializer=default_initializer,\n",
    "                       name=\"Capa_Oculta_1\"))\n",
    "model_sig_nn.add(Activation('relu'))\n",
    "model_sig_nn.add(Dense(200,\n",
    "                       input_dim=input_features, \n",
    "                       kernel_regularizer=regularizers.l2(lambd), \n",
    "                       kernel_initializer=default_initializer,\n",
    "                       name=\"Capa_Oculta_2\"))\n",
    "model_sig_nn.add(Activation('relu'))\n",
    "model_sig_nn.add(Dense(output_size,\n",
    "                       kernel_regularizer=regularizers.l2(lambd), \n",
    "                       kernel_initializer=default_initializer,\n",
    "                       name=\"Capa_Salida\"))\n",
    "model_sig_nn.add(Activation('sigmoid', name=\"output\")) \n",
    "model_sig_nn.summary()\n",
    "\n",
    "\n",
    "lr = 0.001 \n",
    "batch_size = 128\n",
    "epochs = 10\n",
    "\n",
    "selectedOptimizer = tf.keras.optimizers.Adam(learning_rate=lr, decay=0.001)\n",
    "\n",
    "model_sig_nn.compile(loss = 'binary_crossentropy', optimizer=selectedOptimizer, \n",
    "                     metrics=['accuracy'])"
   ]
  },
  {
   "cell_type": "markdown",
   "metadata": {},
   "source": [
    "#### Train"
   ]
  },
  {
   "cell_type": "code",
   "execution_count": 7,
   "metadata": {},
   "outputs": [
    {
     "name": "stdout",
     "output_type": "stream",
     "text": [
      "Epoch 1/10\n",
      "1113/1122 [============================>.] - ETA: 0s - loss: 0.1005 - accuracy: 0.9783\n",
      "Epoch 1: val_loss improved from inf to 0.06848, saving model to basic_model_best.hdf5\n",
      "1122/1122 [==============================] - 5s 4ms/step - loss: 0.1003 - accuracy: 0.9784 - val_loss: 0.0685 - val_accuracy: 0.9945\n",
      "Epoch 2/10\n",
      "1117/1122 [============================>.] - ETA: 0s - loss: 0.0643 - accuracy: 0.9941\n",
      "Epoch 2: val_loss improved from 0.06848 to 0.06116, saving model to basic_model_best.hdf5\n",
      "1122/1122 [==============================] - 4s 4ms/step - loss: 0.0643 - accuracy: 0.9941 - val_loss: 0.0612 - val_accuracy: 0.9945\n",
      "Epoch 3/10\n",
      "1117/1122 [============================>.] - ETA: 0s - loss: 0.0602 - accuracy: 0.9941\n",
      "Epoch 3: val_loss improved from 0.06116 to 0.05962, saving model to basic_model_best.hdf5\n",
      "1122/1122 [==============================] - 4s 4ms/step - loss: 0.0602 - accuracy: 0.9941 - val_loss: 0.0596 - val_accuracy: 0.9945\n",
      "Epoch 4/10\n",
      "1120/1122 [============================>.] - ETA: 0s - loss: 0.0589 - accuracy: 0.9941\n",
      "Epoch 4: val_loss improved from 0.05962 to 0.05904, saving model to basic_model_best.hdf5\n",
      "1122/1122 [==============================] - 4s 4ms/step - loss: 0.0589 - accuracy: 0.9941 - val_loss: 0.0590 - val_accuracy: 0.9945\n",
      "Epoch 5/10\n",
      "1114/1122 [============================>.] - ETA: 0s - loss: 0.0582 - accuracy: 0.9941\n",
      "Epoch 5: val_loss improved from 0.05904 to 0.05900, saving model to basic_model_best.hdf5\n",
      "1122/1122 [==============================] - 4s 4ms/step - loss: 0.0582 - accuracy: 0.9941 - val_loss: 0.0590 - val_accuracy: 0.9945\n",
      "Epoch 6/10\n",
      "1121/1122 [============================>.] - ETA: 0s - loss: 0.0576 - accuracy: 0.9941\n",
      "Epoch 6: val_loss improved from 0.05900 to 0.05882, saving model to basic_model_best.hdf5\n",
      "1122/1122 [==============================] - 4s 4ms/step - loss: 0.0576 - accuracy: 0.9941 - val_loss: 0.0588 - val_accuracy: 0.9945\n",
      "Epoch 7/10\n",
      "1111/1122 [============================>.] - ETA: 0s - loss: 0.0571 - accuracy: 0.9941\n",
      "Epoch 7: val_loss improved from 0.05882 to 0.05867, saving model to basic_model_best.hdf5\n",
      "1122/1122 [==============================] - 4s 4ms/step - loss: 0.0572 - accuracy: 0.9941 - val_loss: 0.0587 - val_accuracy: 0.9945\n",
      "Epoch 8/10\n",
      "1122/1122 [==============================] - ETA: 0s - loss: 0.0568 - accuracy: 0.9941\n",
      "Epoch 8: val_loss improved from 0.05867 to 0.05844, saving model to basic_model_best.hdf5\n",
      "1122/1122 [==============================] - 4s 4ms/step - loss: 0.0568 - accuracy: 0.9941 - val_loss: 0.0584 - val_accuracy: 0.9945\n",
      "Epoch 9/10\n",
      "1114/1122 [============================>.] - ETA: 0s - loss: 0.0564 - accuracy: 0.9939\n",
      "Epoch 9: val_loss improved from 0.05844 to 0.05844, saving model to basic_model_best.hdf5\n",
      "1122/1122 [==============================] - 4s 4ms/step - loss: 0.0565 - accuracy: 0.9940 - val_loss: 0.0584 - val_accuracy: 0.9945\n",
      "Epoch 10/10\n",
      "1121/1122 [============================>.] - ETA: 0s - loss: 0.0562 - accuracy: 0.9941\n",
      "Epoch 10: val_loss improved from 0.05844 to 0.05824, saving model to basic_model_best.hdf5\n",
      "1122/1122 [==============================] - 5s 4ms/step - loss: 0.0562 - accuracy: 0.9941 - val_loss: 0.0582 - val_accuracy: 0.9945\n"
     ]
    }
   ],
   "source": [
    "from keras.callbacks import ModelCheckpoint\n",
    "\n",
    "checkpointer = ModelCheckpoint(\n",
    "    filepath='basic_model_best.hdf5',\n",
    "    verbose=1,\n",
    "    save_best_only=True\n",
    ")\n",
    "\n",
    "history = model_sig_nn.fit(dense_matrix_train, \n",
    "          y_train,\n",
    "          batch_size = batch_size,\n",
    "          epochs=epochs,\n",
    "          verbose=1,\n",
    "          validation_data=(dense_matrix_valid, y_valid),\n",
    "          callbacks=[\n",
    "              checkpointer\n",
    "              ],\n",
    "         )"
   ]
  },
  {
   "cell_type": "markdown",
   "metadata": {},
   "source": [
    "#### Evaluar el dataset de validación"
   ]
  },
  {
   "cell_type": "code",
   "execution_count": 16,
   "metadata": {},
   "outputs": [
    {
     "name": "stdout",
     "output_type": "stream",
     "text": [
      "499/499 [==============================] - 1s 3ms/step - loss: 0.0582 - accuracy: 0.9945\n",
      "Loss=0.0582379475235939 | Val_accuracy=0.9944854974746704\n"
     ]
    }
   ],
   "source": [
    "model_sig_nn.load_weights('basic_model_best.hdf5')\n",
    "loss, val_accuracy = model_sig_nn.evaluate(dense_matrix_valid, y_valid)\n",
    "print(f\"Loss={loss} | Val_accuracy={val_accuracy}\")"
   ]
  },
  {
   "cell_type": "markdown",
   "metadata": {},
   "source": [
    "#### Curva ROC (Receiver Operating Characteristic)"
   ]
  },
  {
   "cell_type": "markdown",
   "metadata": {},
   "source": [
    "Para una clasificación binaria tenemos una probabilidad de que el comentario pertenezca a esa categoría. Para medir que tan bueno es el modelo para clasificar los comentarios usamos la curva ROC.\n",
    "\n",
    "La curva ROC es una representación gráfica de la relación entre la tasa de verdaderos positivos (TPR) y la tasa de falsos positivos (FPR), a medida que movemos el umbral de decisión (valor límite entre positivo y negativo). La tasa de verdaderos positivos nos indica el porcentaje de verdaderos positivos respecto del total de positivos en esa categoría. La tasa de falsos positivos nos indica el porcentaje de falsos positivos respecto del total de negativos en esa categoría.\n",
    "\n",
    "[Interpretación gráfica en Desmos](https://www.desmos.com/calculator/juezsoefn5)\n",
    "\n",
    "<img src=\"images/desmos-graph.png\" style=\"width: 300px; height=300px;\"/>\n",
    "\n",
    "Las curvas roja y verde representan las distribuciones de positivos y negativos para dada clasificación. El umbral de decisión es la recta vertical negra. El área verde oscuro corresponde a los verdaderos positivos (TP) y el área rojo oscuro representa a los falsos positivos (FP). Por el contrario, el área verde claro son los falsos negativos (FN) y el área rojo claro son los verdaderos negativos (TN).\n",
    "\n",
    "El punto de la curva ROC es $(\\text{FPR}, \\text{TPR})$, donde\n",
    "\n",
    "$\\text{TPR}=\\frac{\\text{TP}}{\\text{TP}+\\text{FN}}$\n",
    "$\\text{FPR}=\\frac{\\text{FP}}{\\text{TN}+\\text{FP}}$\n",
    "\n",
    "La curva ROC se construye variando el umbral de decisión entre 0 y 1 (ver en Desmos).\n",
    "\n",
    "Si las dos distribuciones están completamente separadas la curva ROC es un cuadrado.\n",
    "\n",
    "La gran ventaja de la curva ROC es que no cambia si cambia la proporción entre positivos y negativos en la clasificación. Por ejemplo la proporción de comentarios insultantes entre el total de comentarios.\n",
    "\n",
    "La métrica de la competencia es la media de las ROC-AUC o AUROC (Area Under the Receiver Operating Characteristics). Es decir que se promedian las áreas debajo de cada una de las 6 curvas ROC correspondientes a las 6 clasificaciones.\n",
    "\n",
    "Como ya se mencionó, el AUROC es máximo y vale 1 cuando las distribuciones son perfectamente separables por algún umbral de decisión. El peor AUROC es 0.5 ya que en ese caso el modelo no tiene ninguna capacidad de separar (clasificar).\n",
    "\n",
    "[ROC-AUC Curve](https://towardsdatascience.com/understanding-auc-roc-curve-68b2303cc9c5)"
   ]
  },
  {
   "cell_type": "markdown",
   "metadata": {},
   "source": [
    "#### F1-Score\n",
    "\n",
    "Se calcula la precisión (precison) como la medida de positivos que son verdaderos: $\\frac{\\text{TP}}{\\text{TP}+\\text{FP}}$.\n",
    "\n",
    "Se calcula la exhaustividad (recall) como la cantidad de verdaderos que son identificados como positivos: $\\frac{\\text{TP}}{\\text{TP}+\\text{FN}}=\\text{TPR}$.\n",
    "\n",
    "El F1-Score combina las dos métricas anteriores: $\\text{F1}=2\\cdot\\frac{\\text{precison}\\cdot\\text{recall}}{\\text{precison}+\\text{recall}}$\n",
    "\n",
    "La métrica F1-Score asume que nos interesa en igual medida la precisión y la exhaustividad. Dependiendo de la aplicación este puede no ser el caso. Existe $\\text{F}_\\beta\\text{-Score}$.\n",
    "\n",
    "Una diferencia importante entre F1-Score y ROC-AUC es que el primero necesita saber si el dato pertenece o no a la categoría (es decir, se debe fijar el umbral de decisión) para calcular el score, mientras que el segundo se basa en las probabilidad dada de que pertenezca a la categoría. No obstante, se puede construir una curva Precisión-Exhaustividad para cada umbral de decisión.\n",
    "\n",
    "* https://www.iartificial.net/precision-recall-f1-accuracy-en-clasificacion/\n",
    "* https://neptune.ai/blog/f1-score-accuracy-roc-auc-pr-auc\n",
    "* https://medium.com/swlh/recall-precision-f1-roc-auc-and-everything-542aedf322b9"
   ]
  },
  {
   "cell_type": "code",
   "execution_count": 14,
   "metadata": {},
   "outputs": [
    {
     "name": "stdout",
     "output_type": "stream",
     "text": [
      "499/499 [==============================] - 1s 2ms/step\n",
      "4488/4488 [==============================] - 8s 2ms/step\n",
      "0.9718489031042687\n",
      "0.963932396169143\n"
     ]
    }
   ],
   "source": [
    "from sklearn.metrics import roc_auc_score\n",
    "from sklearn.metrics import roc_curve, auc\n",
    "from scipy import interp\n",
    "from itertools import cycle\n",
    "\n",
    "pred_valid = model_sig_nn.predict(dense_matrix_valid, verbose = 1)\n",
    "pred_train = model_sig_nn.predict(dense_matrix_train, verbose = 1)\n",
    "\n",
    "print(roc_auc_score(y_train, pred_train, average='macro'))\n",
    "print(roc_auc_score(y_valid, pred_valid, average='macro'))"
   ]
  },
  {
   "cell_type": "code",
   "execution_count": 10,
   "metadata": {},
   "outputs": [],
   "source": [
    "fpr = dict()\n",
    "tpr = dict()\n",
    "roc_auc = dict()\n",
    "n_classes = y_valid.shape[1]\n",
    "for i in range(n_classes):\n",
    "    fpr[i], tpr[i], _ = roc_curve(y_valid[:, i], pred_valid[:, i])\n",
    "    roc_auc[i] = auc(fpr[i], tpr[i])\n",
    "    \n",
    "fpr[\"micro\"], tpr[\"micro\"], _ = roc_curve(y_valid.ravel(), pred_valid.ravel())\n",
    "roc_auc[\"micro\"] = auc(fpr[\"micro\"], tpr[\"micro\"])"
   ]
  },
  {
   "cell_type": "code",
   "execution_count": 11,
   "metadata": {},
   "outputs": [
    {
     "name": "stderr",
     "output_type": "stream",
     "text": [
      "C:\\Users\\Usuario\\AppData\\Local\\Temp\\ipykernel_18176\\2851730522.py:10: DeprecationWarning: scipy.interp is deprecated and will be removed in SciPy 2.0.0, use numpy.interp instead\n",
      "  mean_tpr += interp(all_fpr, fpr[i], tpr[i])\n"
     ]
    },
    {
     "data": {
      "image/png": "[encoded data removed]",
      "text/plain": [
       "<Figure size 432x288 with 1 Axes>"
      ]
     },
     "metadata": {
      "needs_background": "light"
     },
     "output_type": "display_data"
    }
   ],
   "source": [
    "from matplotlib import pyplot as plt\n",
    "# Compute macro-average ROC curve and ROC area\n",
    "lw = 2\n",
    "# First aggregate all false positive rates\n",
    "all_fpr = np.unique(np.concatenate([fpr[i] for i in range(n_classes)]))\n",
    "\n",
    "# Then interpolate all ROC curves at this points\n",
    "mean_tpr = np.zeros_like(all_fpr)\n",
    "for i in range(n_classes):\n",
    "    mean_tpr += interp(all_fpr, fpr[i], tpr[i])\n",
    "\n",
    "# Finally average it and compute AUC\n",
    "mean_tpr /= n_classes\n",
    "\n",
    "fpr[\"macro\"] = all_fpr\n",
    "tpr[\"macro\"] = mean_tpr\n",
    "roc_auc[\"macro\"] = auc(fpr[\"macro\"], tpr[\"macro\"])\n",
    "\n",
    "# Plot all ROC curves\n",
    "plt.figure()\n",
    "plt.plot(fpr[\"micro\"], tpr[\"micro\"],\n",
    "         label='micro-average ROC curve (area = {0:0.2f})'\n",
    "               ''.format(roc_auc[\"micro\"]),\n",
    "         color='deeppink', linestyle=':', linewidth=4)\n",
    "\n",
    "plt.plot(fpr[\"macro\"], tpr[\"macro\"],\n",
    "         label='macro-average ROC curve (area = {0:0.2f})'\n",
    "               ''.format(roc_auc[\"macro\"]),\n",
    "         color='navy', linestyle=':', linewidth=4)\n",
    "\n",
    "colors = cycle(['aqua', 'darkorange', 'cornflowerblue'])\n",
    "for i, color in zip(range(n_classes), colors):\n",
    "    plt.plot(fpr[i], tpr[i], color=color, lw=lw,\n",
    "             label='ROC curve of class {0} (area = {1:0.2f})'\n",
    "             ''.format(i, roc_auc[i]))\n",
    "\n",
    "plt.plot([0, 1], [0, 1], 'k--', lw=lw)\n",
    "plt.xlim([0.0, 1.0])\n",
    "plt.ylim([0.0, 1.05])\n",
    "plt.xlabel('False Positive Rate')\n",
    "plt.ylabel('True Positive Rate')\n",
    "plt.title('Some extension of Receiver operating characteristic to multi-class')\n",
    "plt.legend(loc=\"lower right\")\n",
    "plt.show()"
   ]
  },
  {
   "cell_type": "code",
   "execution_count": 12,
   "metadata": {},
   "outputs": [],
   "source": [
    "pred_test = model_sig_nn.predict(dense_matrix_test, verbose = 1)\n",
    "submission[list_classes] = pred_test\n",
    "submission.to_csv(\"submissions/submission_.csv\", index=False)"
   ]
  },
  {
   "cell_type": "markdown",
   "metadata": {},
   "source": [
    "Submission details: \n",
    "\n",
    "Submission 1: mindf = 20. Using Lemmatization, stopwords, TFIDF, sigmoid activation function and Adam\n",
    "\n",
    "Submission 2: mindf = 10. Add RELU as the activation function and Adam \n",
    "\n",
    "Submission 3: mindf = 20\n",
    "\n",
    "Submission 4: 500 components in SVD\n",
    "\n",
    "Submission 5: 300 components in SVD and maxdf=2% mindf=20\n",
    "\n",
    "Submission 6: maxdf 5% mindf 30\n",
    "\n",
    "Submission 7: maxdf 5% mindf 200\n",
    "\n",
    "Submission 8:  maxdf 5% mindf 50"
   ]
  }
 ],
 "metadata": {
  "interpreter": {
   "hash": "8ee89385602d32f51e79a022f3d3b98fac6dd4a5956f8a7682635ccf14a32ba7"
  },
  "kernelspec": {
   "display_name": "Python 3.10.0 64-bit ('venv': venv)",
   "language": "python",
   "name": "python3"
  },
  "language_info": {
   "codemirror_mode": {
    "name": "ipython",
    "version": 3
   },
   "file_extension": ".py",
   "mimetype": "text/x-python",
   "name": "python",
   "nbconvert_exporter": "python",
   "pygments_lexer": "ipython3",
   "version": "3.10.0"
  },
  "orig_nbformat": 4
 },
 "nbformat": 4,
 "nbformat_minor": 2
}
